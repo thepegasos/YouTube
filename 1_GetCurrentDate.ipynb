{
 "metadata": {
  "language_info": {
   "codemirror_mode": {
    "name": "ipython",
    "version": 3
   },
   "file_extension": ".py",
   "mimetype": "text/x-python",
   "name": "python",
   "nbconvert_exporter": "python",
   "pygments_lexer": "ipython3",
   "version": "3.6.9-final"
  },
  "orig_nbformat": 2,
  "kernelspec": {
   "name": "python3",
   "display_name": "Python 3",
   "language": "python"
  }
 },
 "nbformat": 4,
 "nbformat_minor": 2,
 "cells": [
  {
   "source": [
    "## How to get the Current Time in Python\n",
    "There are two parts in getting the time. \n",
    "\n",
    "A. First is datetime object which you can manipulate to add/subtract days/months or for extracting specific information.\n",
    "\n",
    "Second is formatted time, this is of string type and contains the information that you have extracted from the datetime object. For instance, day of the week, month of the year, etc. "
   ],
   "cell_type": "markdown",
   "metadata": {}
  },
  {
   "source": [
    "### 1. Using time module"
   ],
   "cell_type": "markdown",
   "metadata": {}
  },
  {
   "cell_type": "code",
   "execution_count": 22,
   "metadata": {},
   "outputs": [],
   "source": [
    "import time"
   ]
  },
  {
   "cell_type": "code",
   "execution_count": null,
   "metadata": {},
   "outputs": [],
   "source": [
    "# TODO: Print current time, save it to a variable\n",
    "# time.time returns the time in seconds (float type) since the epoch as a floating point number."
   ]
  },
  {
   "cell_type": "code",
   "execution_count": 23,
   "metadata": {},
   "outputs": [
    {
     "output_type": "stream",
     "name": "stdout",
     "text": [
      "1608660174.05265\n"
     ]
    }
   ],
   "source": [
    "datetime_secods = time.time()\n",
    "print(datetime_secods)"
   ]
  },
  {
   "source": [
    "### 2. Using datetime module"
   ],
   "cell_type": "markdown",
   "metadata": {}
  },
  {
   "cell_type": "code",
   "execution_count": 24,
   "metadata": {},
   "outputs": [],
   "source": [
    "import datetime"
   ]
  },
  {
   "cell_type": "code",
   "execution_count": 25,
   "metadata": {},
   "outputs": [],
   "source": [
    "# TODO: Print Datetime object, save it to a variable\n",
    "# datetime.datetime.now() returns current datetime object\n",
    "# Note: print() converts datetime object into human readable time and then prints it out, its still datetime object and NOT a string"
   ]
  },
  {
   "cell_type": "code",
   "execution_count": 26,
   "metadata": {},
   "outputs": [
    {
     "output_type": "stream",
     "name": "stdout",
     "text": [
      "2020-12-22 23:33:24.436127\n"
     ]
    }
   ],
   "source": [
    "datetime_obj = datetime.datetime.now()\n",
    "print(datetime_obj)"
   ]
  },
  {
   "source": [
    "### 3. Formating the datetime object\n",
    "        a. From datetime object\n",
    "        b. From timestamp\n",
    "                1. First convert timestamp "
   ],
   "cell_type": "markdown",
   "metadata": {}
  },
  {
   "cell_type": "code",
   "execution_count": 27,
   "metadata": {},
   "outputs": [
    {
     "output_type": "stream",
     "name": "stdout",
     "text": [
      "22-12-2020\n"
     ]
    }
   ],
   "source": [
    "# from datetime object, convert it to day-month-year\n",
    "\n",
    "datetimeString = datetime.datetime.strftime(datetime_obj, \"%d-%m-%Y\")\n",
    "print(datetimeString)"
   ]
  },
  {
   "cell_type": "code",
   "execution_count": 28,
   "metadata": {},
   "outputs": [
    {
     "output_type": "stream",
     "name": "stdout",
     "text": [
      "22-12-2020\n"
     ]
    }
   ],
   "source": [
    "# from timestamp, convert it to day-month-year\n",
    "#   1. convert timestamp (float) to a datetimeobject\n",
    "#   2. convert datetime object to string \n",
    "#   3. Print formatted string\n",
    "\n",
    "datetimeObject = datetime.datetime.fromtimestamp(datetime_seconds)\n",
    "datetimeString = datetime.datetime.strftime(datetimeObject, \"%d-%m-%Y\")\n",
    "print(datetimeString)"
   ]
  },
  {
   "cell_type": "code",
   "execution_count": null,
   "metadata": {},
   "outputs": [],
   "source": [
    "# That's it folks. Thanks for watching, subscribe if you like!"
   ]
  }
 ]
}